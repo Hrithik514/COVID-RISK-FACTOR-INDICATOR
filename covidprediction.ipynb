{
 "cells": [
  {
   "cell_type": "code",
   "execution_count": 1,
   "id": "45705738",
   "metadata": {},
   "outputs": [],
   "source": [
    "import pandas as pd"
   ]
  },
  {
   "cell_type": "code",
   "execution_count": 2,
   "id": "d9bdd71f",
   "metadata": {},
   "outputs": [],
   "source": [
    "df=pd.read_csv(\"D:\\VIT\\Project\\covidreport.csv\")"
   ]
  },
  {
   "cell_type": "code",
   "execution_count": 3,
   "id": "3404e890",
   "metadata": {},
   "outputs": [
    {
     "data": {
      "text/html": [
       "<div>\n",
       "<style scoped>\n",
       "    .dataframe tbody tr th:only-of-type {\n",
       "        vertical-align: middle;\n",
       "    }\n",
       "\n",
       "    .dataframe tbody tr th {\n",
       "        vertical-align: top;\n",
       "    }\n",
       "\n",
       "    .dataframe thead th {\n",
       "        text-align: right;\n",
       "    }\n",
       "</style>\n",
       "<table border=\"1\" class=\"dataframe\">\n",
       "  <thead>\n",
       "    <tr style=\"text-align: right;\">\n",
       "      <th></th>\n",
       "      <th>Unnamed: 0</th>\n",
       "      <th>age</th>\n",
       "      <th>severity_illness</th>\n",
       "      <th>symptoms</th>\n",
       "      <th>treatment</th>\n",
       "      <th>len_people_infected_by_patient</th>\n",
       "      <th>ctscan</th>\n",
       "      <th>oximeter</th>\n",
       "      <th>rtpcr</th>\n",
       "    </tr>\n",
       "  </thead>\n",
       "  <tbody>\n",
       "    <tr>\n",
       "      <th>0</th>\n",
       "      <td>0</td>\n",
       "      <td>56.0</td>\n",
       "      <td>good</td>\n",
       "      <td>fever</td>\n",
       "      <td>hospitalized</td>\n",
       "      <td>17</td>\n",
       "      <td>10</td>\n",
       "      <td>93</td>\n",
       "      <td>positive</td>\n",
       "    </tr>\n",
       "    <tr>\n",
       "      <th>1</th>\n",
       "      <td>1</td>\n",
       "      <td>70.0</td>\n",
       "      <td>good</td>\n",
       "      <td>fever</td>\n",
       "      <td>hospitalized</td>\n",
       "      <td>12</td>\n",
       "      <td>4</td>\n",
       "      <td>95</td>\n",
       "      <td>positive</td>\n",
       "    </tr>\n",
       "    <tr>\n",
       "      <th>2</th>\n",
       "      <td>2</td>\n",
       "      <td>1.0</td>\n",
       "      <td>curable</td>\n",
       "      <td>fever</td>\n",
       "      <td>hospitalized</td>\n",
       "      <td>2</td>\n",
       "      <td>1</td>\n",
       "      <td>96</td>\n",
       "      <td>positive</td>\n",
       "    </tr>\n",
       "    <tr>\n",
       "      <th>3</th>\n",
       "      <td>3</td>\n",
       "      <td>43.0</td>\n",
       "      <td>good</td>\n",
       "      <td>fever</td>\n",
       "      <td>home isolation</td>\n",
       "      <td>22</td>\n",
       "      <td>0</td>\n",
       "      <td>98</td>\n",
       "      <td>negative</td>\n",
       "    </tr>\n",
       "    <tr>\n",
       "      <th>4</th>\n",
       "      <td>4</td>\n",
       "      <td>39.0</td>\n",
       "      <td>critical</td>\n",
       "      <td>fever</td>\n",
       "      <td>hospitalized</td>\n",
       "      <td>6</td>\n",
       "      <td>15</td>\n",
       "      <td>87</td>\n",
       "      <td>positive</td>\n",
       "    </tr>\n",
       "  </tbody>\n",
       "</table>\n",
       "</div>"
      ],
      "text/plain": [
       "   Unnamed: 0   age severity_illness symptoms       treatment  \\\n",
       "0           0  56.0             good    fever    hospitalized   \n",
       "1           1  70.0             good    fever    hospitalized   \n",
       "2           2   1.0          curable    fever    hospitalized   \n",
       "3           3  43.0             good    fever  home isolation   \n",
       "4           4  39.0         critical    fever    hospitalized   \n",
       "\n",
       "   len_people_infected_by_patient  ctscan  oximeter     rtpcr  \n",
       "0                              17      10        93  positive  \n",
       "1                              12       4        95  positive  \n",
       "2                               2       1        96  positive  \n",
       "3                              22       0        98  negative  \n",
       "4                               6      15        87  positive  "
      ]
     },
     "execution_count": 3,
     "metadata": {},
     "output_type": "execute_result"
    }
   ],
   "source": [
    "df.head()"
   ]
  },
  {
   "cell_type": "code",
   "execution_count": 4,
   "id": "515cb819",
   "metadata": {},
   "outputs": [],
   "source": [
    "del df['Unnamed: 0']"
   ]
  },
  {
   "cell_type": "code",
   "execution_count": 5,
   "id": "65ec9e1f",
   "metadata": {},
   "outputs": [],
   "source": [
    "del df['symptoms']"
   ]
  },
  {
   "cell_type": "code",
   "execution_count": 6,
   "id": "6117c974",
   "metadata": {},
   "outputs": [
    {
     "data": {
      "text/html": [
       "<div>\n",
       "<style scoped>\n",
       "    .dataframe tbody tr th:only-of-type {\n",
       "        vertical-align: middle;\n",
       "    }\n",
       "\n",
       "    .dataframe tbody tr th {\n",
       "        vertical-align: top;\n",
       "    }\n",
       "\n",
       "    .dataframe thead th {\n",
       "        text-align: right;\n",
       "    }\n",
       "</style>\n",
       "<table border=\"1\" class=\"dataframe\">\n",
       "  <thead>\n",
       "    <tr style=\"text-align: right;\">\n",
       "      <th></th>\n",
       "      <th>age</th>\n",
       "      <th>severity_illness</th>\n",
       "      <th>treatment</th>\n",
       "      <th>len_people_infected_by_patient</th>\n",
       "      <th>ctscan</th>\n",
       "      <th>oximeter</th>\n",
       "      <th>rtpcr</th>\n",
       "    </tr>\n",
       "  </thead>\n",
       "  <tbody>\n",
       "    <tr>\n",
       "      <th>0</th>\n",
       "      <td>56.0</td>\n",
       "      <td>good</td>\n",
       "      <td>hospitalized</td>\n",
       "      <td>17</td>\n",
       "      <td>10</td>\n",
       "      <td>93</td>\n",
       "      <td>1</td>\n",
       "    </tr>\n",
       "    <tr>\n",
       "      <th>1</th>\n",
       "      <td>70.0</td>\n",
       "      <td>good</td>\n",
       "      <td>hospitalized</td>\n",
       "      <td>12</td>\n",
       "      <td>4</td>\n",
       "      <td>95</td>\n",
       "      <td>1</td>\n",
       "    </tr>\n",
       "    <tr>\n",
       "      <th>2</th>\n",
       "      <td>1.0</td>\n",
       "      <td>curable</td>\n",
       "      <td>hospitalized</td>\n",
       "      <td>2</td>\n",
       "      <td>1</td>\n",
       "      <td>96</td>\n",
       "      <td>1</td>\n",
       "    </tr>\n",
       "    <tr>\n",
       "      <th>3</th>\n",
       "      <td>43.0</td>\n",
       "      <td>good</td>\n",
       "      <td>home isolation</td>\n",
       "      <td>22</td>\n",
       "      <td>0</td>\n",
       "      <td>98</td>\n",
       "      <td>0</td>\n",
       "    </tr>\n",
       "    <tr>\n",
       "      <th>4</th>\n",
       "      <td>39.0</td>\n",
       "      <td>critical</td>\n",
       "      <td>hospitalized</td>\n",
       "      <td>6</td>\n",
       "      <td>15</td>\n",
       "      <td>87</td>\n",
       "      <td>1</td>\n",
       "    </tr>\n",
       "  </tbody>\n",
       "</table>\n",
       "</div>"
      ],
      "text/plain": [
       "    age severity_illness       treatment  len_people_infected_by_patient  \\\n",
       "0  56.0             good    hospitalized                              17   \n",
       "1  70.0             good    hospitalized                              12   \n",
       "2   1.0          curable    hospitalized                               2   \n",
       "3  43.0             good  home isolation                              22   \n",
       "4  39.0         critical    hospitalized                               6   \n",
       "\n",
       "   ctscan  oximeter  rtpcr  \n",
       "0      10        93      1  \n",
       "1       4        95      1  \n",
       "2       1        96      1  \n",
       "3       0        98      0  \n",
       "4      15        87      1  "
      ]
     },
     "execution_count": 6,
     "metadata": {},
     "output_type": "execute_result"
    }
   ],
   "source": [
    "from sklearn.preprocessing import LabelEncoder\n",
    "df['rtpcr']=LabelEncoder().fit_transform(df.rtpcr)\n",
    "df.head()"
   ]
  },
  {
   "cell_type": "code",
   "execution_count": 7,
   "id": "957fa217",
   "metadata": {},
   "outputs": [
    {
     "data": {
      "text/html": [
       "<div>\n",
       "<style scoped>\n",
       "    .dataframe tbody tr th:only-of-type {\n",
       "        vertical-align: middle;\n",
       "    }\n",
       "\n",
       "    .dataframe tbody tr th {\n",
       "        vertical-align: top;\n",
       "    }\n",
       "\n",
       "    .dataframe thead th {\n",
       "        text-align: right;\n",
       "    }\n",
       "</style>\n",
       "<table border=\"1\" class=\"dataframe\">\n",
       "  <thead>\n",
       "    <tr style=\"text-align: right;\">\n",
       "      <th></th>\n",
       "      <th>age</th>\n",
       "      <th>ctscan</th>\n",
       "      <th>oximeter</th>\n",
       "      <th>rtpcr</th>\n",
       "    </tr>\n",
       "  </thead>\n",
       "  <tbody>\n",
       "    <tr>\n",
       "      <th>0</th>\n",
       "      <td>56.0</td>\n",
       "      <td>10</td>\n",
       "      <td>93</td>\n",
       "      <td>1</td>\n",
       "    </tr>\n",
       "    <tr>\n",
       "      <th>1</th>\n",
       "      <td>70.0</td>\n",
       "      <td>4</td>\n",
       "      <td>95</td>\n",
       "      <td>1</td>\n",
       "    </tr>\n",
       "    <tr>\n",
       "      <th>2</th>\n",
       "      <td>1.0</td>\n",
       "      <td>1</td>\n",
       "      <td>96</td>\n",
       "      <td>1</td>\n",
       "    </tr>\n",
       "    <tr>\n",
       "      <th>3</th>\n",
       "      <td>43.0</td>\n",
       "      <td>0</td>\n",
       "      <td>98</td>\n",
       "      <td>0</td>\n",
       "    </tr>\n",
       "    <tr>\n",
       "      <th>4</th>\n",
       "      <td>39.0</td>\n",
       "      <td>15</td>\n",
       "      <td>87</td>\n",
       "      <td>1</td>\n",
       "    </tr>\n",
       "  </tbody>\n",
       "</table>\n",
       "</div>"
      ],
      "text/plain": [
       "    age  ctscan  oximeter  rtpcr\n",
       "0  56.0      10        93      1\n",
       "1  70.0       4        95      1\n",
       "2   1.0       1        96      1\n",
       "3  43.0       0        98      0\n",
       "4  39.0      15        87      1"
      ]
     },
     "execution_count": 7,
     "metadata": {},
     "output_type": "execute_result"
    }
   ],
   "source": [
    "a=df.drop('treatment',axis=1)\n",
    "b=a.drop('severity_illness',axis=1)\n",
    "X=b.drop('len_people_infected_by_patient',axis=1)\n",
    "Y=df['treatment']\n",
    "X.head()"
   ]
  },
  {
   "cell_type": "code",
   "execution_count": 22,
   "id": "c1622307",
   "metadata": {},
   "outputs": [
    {
     "name": "stdout",
     "output_type": "stream",
     "text": [
      "Enter age : 23\n",
      "rtpcr : positive\n",
      "Oximter level : 96\n",
      "Enter CTscan score : 0\n",
      "['home isolation']\n",
      "['good']\n"
     ]
    }
   ],
   "source": [
    "from sklearn.model_selection import train_test_split\n",
    "X_train,X_test,Y_train,Y_test=train_test_split(X,Y,test_size=0.2,random_state=3)\n",
    "from sklearn.linear_model import LogisticRegression\n",
    "logmodel=LogisticRegression()\n",
    "logmodel.fit(X_train,Y_train)\n",
    "a=int(input(\"Enter age : \"))\n",
    "b=input(\"rtpcr : \")\n",
    "c=int(input(\"Oximter level : \"))\n",
    "d=int(input(\"Enter CTscan score : \"))\n",
    "if(b=='positive'):\n",
    "    b=1\n",
    "else:\n",
    "    b=0\n",
    "dat = [[a,b,c,d]]\n",
    "data = pd.DataFrame(dat,columns=['age','rtpcr','oximeter','ctscan'])\n",
    "prediction=logmodel.predict(data)\n",
    "print(prediction)\n",
    "a1=df.drop('treatment',axis=1)\n",
    "b1=a1.drop('severity_illness',axis=1)\n",
    "X1=b1.drop('len_people_infected_by_patient',axis=1)\n",
    "Y1=df['severity_illness']\n",
    "X1_train,X1_test,Y1_train,Y1_test=train_test_split(X1,Y1,test_size=0.3,random_state=0)\n",
    "from sklearn.naive_bayes import GaussianNB\n",
    "gnb = GaussianNB().fit(X1_train, Y1_train)\n",
    "tions = gnb.predict(data)\n",
    "print(gnb_predictions)\n"
   ]
  },
  {
   "cell_type": "code",
   "execution_count": 20,
   "id": "3038ad6d",
   "metadata": {},
   "outputs": [
    {
     "data": {
      "text/plain": [
       "(10000, 4)"
      ]
     },
     "execution_count": 20,
     "metadata": {},
     "output_type": "execute_result"
    }
   ],
   "source": [
    "X1.shape"
   ]
  },
  {
   "cell_type": "code",
   "execution_count": 21,
   "id": "778dc942",
   "metadata": {},
   "outputs": [
    {
     "data": {
      "text/plain": [
       "(10000,)"
      ]
     },
     "execution_count": 21,
     "metadata": {},
     "output_type": "execute_result"
    }
   ],
   "source": [
    "Y1.shape"
   ]
  },
  {
   "cell_type": "code",
   "execution_count": null,
   "id": "6abfee07",
   "metadata": {},
   "outputs": [],
   "source": []
  }
 ],
 "metadata": {
  "kernelspec": {
   "display_name": "Python 3",
   "language": "python",
   "name": "python3"
  },
  "language_info": {
   "codemirror_mode": {
    "name": "ipython",
    "version": 3
   },
   "file_extension": ".py",
   "mimetype": "text/x-python",
   "name": "python",
   "nbconvert_exporter": "python",
   "pygments_lexer": "ipython3",
   "version": "3.8.8"
  }
 },
 "nbformat": 4,
 "nbformat_minor": 5
}
